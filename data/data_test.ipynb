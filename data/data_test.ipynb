{
 "nbformat": 4,
 "nbformat_minor": 2,
 "metadata": {
  "language_info": {
   "name": "python",
   "codemirror_mode": {
    "name": "ipython",
    "version": 3
   },
   "version": "3.7.4-final"
  },
  "orig_nbformat": 2,
  "file_extension": ".py",
  "mimetype": "text/x-python",
  "name": "python",
  "npconvert_exporter": "python",
  "pygments_lexer": "ipython3",
  "version": 3,
  "kernelspec": {
   "name": "python3",
   "display_name": "Python 3"
  }
 },
 "cells": [
  {
   "cell_type": "code",
   "execution_count": 1,
   "metadata": {},
   "outputs": [],
   "source": [
    "import pandas as pd "
   ]
  },
  {
   "cell_type": "code",
   "execution_count": 17,
   "metadata": {},
   "outputs": [],
   "source": [
    "population_EHPAD = pd.read_excel(\n",
    "    'FRA/EHPA_residents.xlsx',\n",
    "    usecols=\"A:F\",\n",
    "    skiprows=range(0,5),\n",
    "    nrows=11,\n",
    "    sheet_name=\"T1\"\n",
    ")"
   ]
  },
  {
   "cell_type": "code",
   "execution_count": 18,
   "metadata": {},
   "outputs": [
    {
     "output_type": "execute_result",
     "data": {
      "text/plain": "                 Unnamed: 0  Femmes  Hommes  Total répondants  Non renseigné  \\\n0           Moins de 65 ans    9842   12626             22468             10   \n1   De 65 à moins de 70 ans   15093   16183             31277             11   \n2   De 70 à moins de 75 ans   18439   15207             33646             19   \n3   De 75 à moins de 80 ans   40057   22636             62693             23   \n4   De 80 à moins de 85 ans   87740   34810            122550             43   \n5   De 85 à moins de 90 ans  152303   44437            196740             67   \n6   De 90 à moins de 95 ans  151337   35239            186576             62   \n7            95 ans et plus   60564   10364             70928             22   \n8          Total répondants  535375  191502            726877            258   \n9             Non renseigné     528     226               754             35   \n10                 ENSEMBLE  535903  191728            727631            293   \n\n    Unnamed: 5  \n0        22478  \n1        31288  \n2        33665  \n3        62716  \n4       122593  \n5       196807  \n6       186638  \n7        70950  \n8       727135  \n9          789  \n10      727924  ",
      "text/html": "<div>\n<style scoped>\n    .dataframe tbody tr th:only-of-type {\n        vertical-align: middle;\n    }\n\n    .dataframe tbody tr th {\n        vertical-align: top;\n    }\n\n    .dataframe thead th {\n        text-align: right;\n    }\n</style>\n<table border=\"1\" class=\"dataframe\">\n  <thead>\n    <tr style=\"text-align: right;\">\n      <th></th>\n      <th>Unnamed: 0</th>\n      <th>Femmes</th>\n      <th>Hommes</th>\n      <th>Total répondants</th>\n      <th>Non renseigné</th>\n      <th>Unnamed: 5</th>\n    </tr>\n  </thead>\n  <tbody>\n    <tr>\n      <td>0</td>\n      <td>Moins de 65 ans</td>\n      <td>9842</td>\n      <td>12626</td>\n      <td>22468</td>\n      <td>10</td>\n      <td>22478</td>\n    </tr>\n    <tr>\n      <td>1</td>\n      <td>De 65 à moins de 70 ans</td>\n      <td>15093</td>\n      <td>16183</td>\n      <td>31277</td>\n      <td>11</td>\n      <td>31288</td>\n    </tr>\n    <tr>\n      <td>2</td>\n      <td>De 70 à moins de 75 ans</td>\n      <td>18439</td>\n      <td>15207</td>\n      <td>33646</td>\n      <td>19</td>\n      <td>33665</td>\n    </tr>\n    <tr>\n      <td>3</td>\n      <td>De 75 à moins de 80 ans</td>\n      <td>40057</td>\n      <td>22636</td>\n      <td>62693</td>\n      <td>23</td>\n      <td>62716</td>\n    </tr>\n    <tr>\n      <td>4</td>\n      <td>De 80 à moins de 85 ans</td>\n      <td>87740</td>\n      <td>34810</td>\n      <td>122550</td>\n      <td>43</td>\n      <td>122593</td>\n    </tr>\n    <tr>\n      <td>5</td>\n      <td>De 85 à moins de 90 ans</td>\n      <td>152303</td>\n      <td>44437</td>\n      <td>196740</td>\n      <td>67</td>\n      <td>196807</td>\n    </tr>\n    <tr>\n      <td>6</td>\n      <td>De 90 à moins de 95 ans</td>\n      <td>151337</td>\n      <td>35239</td>\n      <td>186576</td>\n      <td>62</td>\n      <td>186638</td>\n    </tr>\n    <tr>\n      <td>7</td>\n      <td>95 ans et plus</td>\n      <td>60564</td>\n      <td>10364</td>\n      <td>70928</td>\n      <td>22</td>\n      <td>70950</td>\n    </tr>\n    <tr>\n      <td>8</td>\n      <td>Total répondants</td>\n      <td>535375</td>\n      <td>191502</td>\n      <td>726877</td>\n      <td>258</td>\n      <td>727135</td>\n    </tr>\n    <tr>\n      <td>9</td>\n      <td>Non renseigné</td>\n      <td>528</td>\n      <td>226</td>\n      <td>754</td>\n      <td>35</td>\n      <td>789</td>\n    </tr>\n    <tr>\n      <td>10</td>\n      <td>ENSEMBLE</td>\n      <td>535903</td>\n      <td>191728</td>\n      <td>727631</td>\n      <td>293</td>\n      <td>727924</td>\n    </tr>\n  </tbody>\n</table>\n</div>"
     },
     "metadata": {},
     "execution_count": 18
    }
   ],
   "source": [
    "population_EHPAD.rename(columns={ \n",
    "    population_EHPAD.columns[1]: \"age\",\n",
    "    population_EHPAD.columns[-1]: \"Total\"\n",
    "}, inplace = True)"
   ]
  }
 ]
}