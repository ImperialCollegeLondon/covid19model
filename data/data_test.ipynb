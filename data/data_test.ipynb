{
 "nbformat": 4,
 "nbformat_minor": 2,
 "metadata": {
  "language_info": {
   "name": "python",
   "codemirror_mode": {
    "name": "ipython",
    "version": 3
   },
   "version": "3.7.4-final"
  },
  "orig_nbformat": 2,
  "file_extension": ".py",
  "mimetype": "text/x-python",
  "name": "python",
  "npconvert_exporter": "python",
  "pygments_lexer": "ipython3",
  "version": 3,
  "kernelspec": {
   "name": "python3",
   "display_name": "Python 3"
  }
 },
 "cells": [
  {
   "cell_type": "code",
   "execution_count": null,
   "metadata": {},
   "outputs": [],
   "source": [
    "import pandas as pd "
   ]
  },
  {
   "cell_type": "code",
   "execution_count": null,
   "metadata": {},
   "outputs": [],
   "source": [
    "population_EHPAD = pd.read_excel(\n",
    "    'FRA/EHPA_residents.xlsx',\n",
    "    usecols=\"A:F\",\n",
    "    skiprows=range(0,5),\n",
    "    nrows=11,\n",
    "    sheet_name=\"T1\"\n",
    ")"
   ]
  },
  {
   "cell_type": "code",
   "execution_count": null,
   "metadata": {},
   "outputs": [],
   "source": [
    "population_EHPAD.rename(columns={ \n",
    "    population_EHPAD.columns[0]: \"age\",\n",
    "    population_EHPAD.columns[-1]: \"Total\"\n",
    "}, inplace = True)\n",
    "population_EHPAD"
   ]
  },
  {
   "cell_type": "code",
   "execution_count": null,
   "metadata": {},
   "outputs": [],
   "source": [
    "EHPAD_age_map = {\n",
    "    \"60-69\": [0, 1],  # Assumes that no one one in the below 65 cat is below 60\n",
    "    \"70-79\": [2, 3],\n",
    "    \"80+\": [4, 5, 6, 7],\n",
    "}"
   ]
  },
  {
   "cell_type": "code",
   "execution_count": null,
   "metadata": {},
   "outputs": [],
   "source": [
    "import french_population as fp"
   ]
  },
  {
   "cell_type": "code",
   "execution_count": null,
   "metadata": {},
   "outputs": [],
   "source": [
    "EHPAD_age_table = fp.new_age_table(index=[\"EHPAD\"])\n",
    "for age in EHPAD_age_map:\n",
    "    for row in EHPAD_age_map[age]:\n",
    "        EHPAD_age_table.loc[\"EHPAD\",age] += \\\n",
    "                population_EHPAD.loc[row, \"Total\"]\n",
    "\n",
    "EHPAD_age_table[\"total\"] = EHPAD_age_table.sum(axis=1)\n",
    "EHPAD_age_table[\"name\"] = \"EHPAD\"\n",
    "EHPAD_age_table[\"fra_code\"] = \"EHPAD\""
   ]
  },
  {
   "cell_type": "code",
   "execution_count": null,
   "metadata": {},
   "outputs": [],
   "source": [
    "EHPAD_age_table"
   ]
  },
  {
   "cell_type": "code",
   "execution_count": null,
   "metadata": {},
   "outputs": [],
   "source": [
    "import extract_opencovidfr_2_ICL as o2i\n",
    "o2i.data_dir = o2i.Path(\"./\")\n",
    "o2i.pop_per_region = o2i.read_pop_region(o2i.data_dir + 'FRA/french_population_age_regional.csv')"
   ]
  },
  {
   "cell_type": "code",
   "execution_count": null,
   "metadata": {},
   "outputs": [],
   "source": [
    "fic = \"FRA/opencovid19-fr-chiffres-cles.csv\"\n",
    "reg = \"REG\"\n",
    "src = o2i.pd.read_csv(fic)\n",
    "\n",
    "active_regions = o2i.find_active_regions(src, reg)\n",
    "srcReg = o2i.clean_region_data(src, active_regions)\n",
    "print(reg + \" : \" + str(srcReg.shape[0]) + \" lignes\")\n",
    "\n",
    "dst = o2i.convert_opencovidfr_to_ICL_model(srcReg, o2i.pop_per_region)\n",
    "\n",
    "\n",
    ""
   ]
  },
  {
   "cell_type": "code",
   "execution_count": null,
   "metadata": {},
   "outputs": [],
   "source": [
    "def calculate_daily_change(df, region_id, cumulated_field, field):\n",
    "    reg_logicind = df[\"geoId\"] == region_id\n",
    "    reg_deaths = np.array(df.loc[reg_logicind, cumulated_field])\n",
    "    for i, deaths in enumerate(reg_deaths):\n",
    "        if i>0 and deaths < reg_deaths[i-1]:\n",
    "            reg_deaths[i] = reg_deaths[i-1]\n",
    "    reg_deaths = reg_deaths-[0, *reg_deaths[:-1]]\n",
    "    df.loc[reg_logicind, field] = reg_deaths"
   ]
  },
  {
   "cell_type": "code",
   "execution_count": null,
   "metadata": {},
   "outputs": [],
   "source": [
    "dst.sort_values(\"t\", inplace=True)\n",
    "active_regions = dst[\"geoId\"].unique()\n",
    "dst[\"deaths\"] = 0\n",
    "for region in active_regions:\n",
    "    calculate_daily_change(dst, region, \"cumulated_deaths\", \"deaths\")\n",
    "    calculate_daily_change(dst, region, \"cumulated_cases\", \"cases\")"
   ]
  },
  {
   "cell_type": "code",
   "execution_count": null,
   "metadata": {},
   "outputs": [],
   "source": [
    "import numpy as np"
   ]
  },
  {
   "cell_type": "code",
   "execution_count": null,
   "metadata": {},
   "outputs": [],
   "source": [
    "reg_logicind = dst[\"geoId\"] == \"REG-84\"\n",
    "reg_deaths = np.array(dst.loc[reg_logicind, \"cumulated_deaths\"])\n",
    "for i, deaths in enumerate(reg_deaths):\n",
    "    if i>0 and deaths < reg_deaths[i-1]:\n",
    "        reg_deaths[i] = reg_deaths[i-1]\n",
    "reg_deaths = reg_deaths-[0, *reg_deaths[:-1]]\n",
    "dst.loc[reg_logicind, \"deaths\"] = reg_deaths"
   ]
  },
  {
   "cell_type": "code",
   "execution_count": null,
   "metadata": {},
   "outputs": [],
   "source": [
    "dst"
   ]
  },
  {
   "cell_type": "code",
   "execution_count": null,
   "metadata": {},
   "outputs": [],
   "source": []
  }
 ]
}